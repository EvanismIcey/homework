{
 "cells": [
  {
   "cell_type": "markdown",
   "metadata": {},
   "source": [
    "# 导入Python库"
   ]
  },
  {
   "cell_type": "code",
   "execution_count": 26,
   "metadata": {},
   "outputs": [],
   "source": [
    "%matplotlib inline\n",
    "import matplotlib.pyplot as plt\n",
    "from pylab import plot\n",
    "import numpy as np"
   ]
  },
  {
   "cell_type": "markdown",
   "metadata": {},
   "source": [
    "# 绘制数据"
   ]
  },
  {
   "cell_type": "code",
   "execution_count": 27,
   "metadata": {},
   "outputs": [
    {
     "data": {
      "image/png": "[encoded data removed]",
      "text/plain": [
       "<Figure size 432x288 with 1 Axes>"
      ]
     },
     "metadata": {
      "needs_background": "light"
     },
     "output_type": "display_data"
    }
   ],
   "source": [
    "x=[[3,3],[4,3],[1,1],[2,4]]\n",
    "y=[1,1,-1,-1]\n",
    "plt.scatter(1,1,color='red',marker='x')\n",
    "plt.scatter(2,4,color='red',marker='x')\n",
    "plt.scatter(3,3,color='blue',marker='o')\n",
    "plt.scatter(4,3,color='blue',marker='o')\n",
    "plt.show()"
   ]
  },
  {
   "cell_type": "markdown",
   "metadata": {},
   "source": [
    "# 感知器"
   ]
  },
  {
   "cell_type": "code",
   "execution_count": 29,
   "metadata": {},
   "outputs": [
    {
     "name": "stdout",
     "output_type": "stream",
     "text": [
      "[3, -1]\n",
      "-3\n"
     ]
    },
    {
     "data": {
      "image/png": "[encoded data removed]",
      "text/plain": [
       "<Figure size 432x288 with 1 Axes>"
      ]
     },
     "metadata": {
      "needs_background": "light"
     },
     "output_type": "display_data"
    }
   ],
   "source": [
    "x=[[3,3],[4,3],[1,1],[2,4]]\n",
    "y=[1,1,-1,-1]\n",
    "plt.scatter(1,1,color='red',marker='x')\n",
    "plt.scatter(2,4,color='red',marker='x')\n",
    "plt.scatter(3,3,color='blue',marker='o')\n",
    "plt.scatter(4,3,color='blue',marker='o')\n",
    "w=[0,0]\n",
    "b=0\n",
    "alpha=1\n",
    "sign=0\n",
    "def sgn(x):\n",
    "    if x>0:\n",
    "        return 1\n",
    "    else:\n",
    "        return -1\n",
    "while sign==0:\n",
    "    sign=1\n",
    "    for i in range(0,len(x)):\n",
    "        while (sgn(np.dot(w,x[i])+b)!=y[i]):\n",
    "            w[0]=w[0]+alpha*y[i]*x[i][0]\n",
    "            w[1]=w[1]+alpha*y[i]*x[i][1]\n",
    "            b=b+alpha*y[i]\n",
    "            sign=0\n",
    "print(w)\n",
    "print(b)\n",
    "ascent=-w[0]/w[1]\n",
    "intercept=-b/w[1]\n",
    "x=np.linspace(0,5,50)\n",
    "y=ascent*x+intercept\n",
    "plt.axis([0,5,0,5])\n",
    "plt.plot(x,y)\n",
    "plt.show()"
   ]
  },
  {
   "cell_type": "code",
   "execution_count": null,
   "metadata": {},
   "outputs": [],
   "source": []
  }
 ],
 "metadata": {
  "kernelspec": {
   "display_name": "Python [conda env:anaconda3]",
   "language": "python",
   "name": "conda-env-anaconda3-py"
  },
  "language_info": {
   "codemirror_mode": {
    "name": "ipython",
    "version": 3
   },
   "file_extension": ".py",
   "mimetype": "text/x-python",
   "name": "python",
   "nbconvert_exporter": "python",
   "pygments_lexer": "ipython3",
   "version": "3.5.6"
  }
 },
 "nbformat": 4,
 "nbformat_minor": 2
}
